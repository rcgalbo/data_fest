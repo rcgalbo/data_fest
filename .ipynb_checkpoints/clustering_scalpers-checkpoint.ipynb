{
 "cells": [
  {
   "cell_type": "markdown",
   "metadata": {
    "collapsed": true,
    "slideshow": {
     "slide_type": "slide"
    }
   },
   "source": [
    "# Unsupervised Cluster Analysis for Analysing Consumer Behavior: \n",
    "\n",
    "### *Figuring out the difference between True-Fans and Scalpers*\n",
    "\n",
    "#### **Team W. Estes: Rick Galbo, Shyam Shah, Burhan Adhami**\n",
    "\n",
    "<img src='download.jpg'></img>"
   ]
  },
  {
   "cell_type": "markdown",
   "metadata": {},
   "source": [
    "# Characteristics of Scalpers\n",
    "\n",
    "-Activity: High Activity, Large Quantity Purchase, Many Seperate Purchases   \n",
    "-Illogical Habbits: Two places same time, Love parking passes, Repetetive Purchasing\n",
    "\n",
    "### Here are some of the packages we used"
   ]
  },
  {
   "cell_type": "code",
   "execution_count": 2,
   "metadata": {
    "collapsed": true,
    "slideshow": {
     "slide_type": "fragment"
    }
   },
   "outputs": [],
   "source": [
    "import plotly.plotly as py\n",
    "import plotly.graph_objs  as go\n",
    "\n",
    "import pandas as pd"
   ]
  },
  {
   "cell_type": "markdown",
   "metadata": {
    "slideshow": {
     "slide_type": "slide"
    }
   },
   "source": [
    "# Principle Components for Large Purchase Number\n",
    "<img src = 'pca1.png'>"
   ]
  },
  {
   "cell_type": "code",
   "execution_count": 3,
   "metadata": {
    "collapsed": false,
    "slideshow": {
     "slide_type": "skip"
    }
   },
   "outputs": [],
   "source": [
    "df = pd.read_csv('pca_res.csv')"
   ]
  },
  {
   "cell_type": "code",
   "execution_count": 4,
   "metadata": {
    "collapsed": false,
    "slideshow": {
     "slide_type": "skip"
    }
   },
   "outputs": [],
   "source": [
    "# Create a trace\n",
    "trace0 = go.Scatter3d(\n",
    "    x = df.PC1[df['fit1.cluster'] == 1],\n",
    "    y = df.PC2[df['fit1.cluster'] == 1],\n",
    "    z = df.PC3[df['fit1.cluster'] == 1],\n",
    "    name = 'Cluster 1',\n",
    "    mode = 'markers',\n",
    "    marker = dict(\n",
    "        size = 10,\n",
    "        color = 'rgb(23, 190, 207)',\n",
    "        line = dict(\n",
    "            width = 2\n",
    "        )\n",
    "    )\n",
    ")\n",
    "\n",
    "trace1 = go.Scatter3d(\n",
    "    x = df.PC1[df['fit1.cluster'] == 2],\n",
    "    y = df.PC2[df['fit1.cluster'] == 2],\n",
    "    z = df.PC3[df['fit1.cluster'] == 2],\n",
    "    name = 'Cluster 2',\n",
    "    mode = 'markers',\n",
    "    marker = dict(\n",
    "        size = 10,\n",
    "        color = 'rgba(156, 165, 196, 1.0)',\n",
    "        line = dict(\n",
    "            width = 2,\n",
    "        )\n",
    "    )\n",
    ")\n",
    "\n",
    "\n",
    "\n",
    "data = [trace0,trace1]"
   ]
  },
  {
   "cell_type": "code",
   "execution_count": 5,
   "metadata": {
    "collapsed": true
   },
   "outputs": [],
   "source": [
    "layout = dict(\n",
    "    title = 'Top Components K-means',\n",
    "    scene = dict(\n",
    "        xaxis = dict( zeroline=False ),\n",
    "        yaxis = dict( zeroline=False ),\n",
    "        zaxis = dict( zeroline=False ),\n",
    "    )\n",
    ")"
   ]
  },
  {
   "cell_type": "code",
   "execution_count": 6,
   "metadata": {
    "collapsed": false,
    "scrolled": false,
    "slideshow": {
     "slide_type": "slide"
    }
   },
   "outputs": [
    {
     "data": {
      "text/html": [
       "<iframe id=\"igraph\" scrolling=\"no\" style=\"border:none;\" seamless=\"seamless\" src=\"https://plot.ly/~rgalbo/43.embed\" height=\"525px\" width=\"100%\"></iframe>"
      ],
      "text/plain": [
       "<plotly.tools.PlotlyDisplay object>"
      ]
     },
     "execution_count": 6,
     "metadata": {},
     "output_type": "execute_result"
    }
   ],
   "source": [
    "fig1 = dict(data=data, layout=layout)\n",
    "py.iplot(fig1, filename='Top Components K-means')"
   ]
  },
  {
   "cell_type": "code",
   "execution_count": 7,
   "metadata": {
    "collapsed": false,
    "slideshow": {
     "slide_type": "skip"
    }
   },
   "outputs": [],
   "source": [
    "# Create a trace\n",
    "trace2 = go.Scatter3d(\n",
    "    x = df.PC1[df['groups'] == 1],\n",
    "    y = df.PC2[df['groups'] == 1],\n",
    "    z = df.PC3[df['groups'] == 1],\n",
    "    name = 'Cluster 1',\n",
    "    mode = 'markers',\n",
    "    marker = dict(\n",
    "        size = 10,\n",
    "        color = 'rgba(156, 165, 196, 1.0)',\n",
    "        line = dict(\n",
    "            width = 2\n",
    "        )\n",
    "    )\n",
    ")\n",
    "\n",
    "trace3 = go.Scatter3d(\n",
    "    x = df.PC1[df['groups'] == 2],\n",
    "    y = df.PC2[df['groups'] == 2],\n",
    "    z = df.PC3[df['groups'] == 2],\n",
    "    name = 'Cluster 2',\n",
    "    mode = 'markers',\n",
    "    marker = dict(\n",
    "        size = 10,\n",
    "        color = 'rgb(23, 190, 207)',\n",
    "        line = dict(\n",
    "            width = 2,\n",
    "        )\n",
    "    )\n",
    ")\n",
    "\n",
    "layout = dict(\n",
    "    title = 'Top Components Hclust',\n",
    "    scene = dict(\n",
    "        xaxis = dict( zeroline=False ),\n",
    "        yaxis = dict( zeroline=False ),\n",
    "        zaxis = dict( zeroline=False ),\n",
    "    )\n",
    ")\n",
    "\n",
    "data = [trace2,trace3]"
   ]
  },
  {
   "cell_type": "code",
   "execution_count": 8,
   "metadata": {
    "collapsed": false,
    "scrolled": false,
    "slideshow": {
     "slide_type": "slide"
    }
   },
   "outputs": [
    {
     "data": {
      "text/html": [
       "<iframe id=\"igraph\" scrolling=\"no\" style=\"border:none;\" seamless=\"seamless\" src=\"https://plot.ly/~rgalbo/41.embed\" height=\"525px\" width=\"100%\"></iframe>"
      ],
      "text/plain": [
       "<plotly.tools.PlotlyDisplay object>"
      ]
     },
     "execution_count": 8,
     "metadata": {},
     "output_type": "execute_result"
    }
   ],
   "source": [
    "fig2 = dict(data=data, layout=layout)\n",
    "py.iplot(fig2, filename='Top Components Hclust')"
   ]
  },
  {
   "cell_type": "markdown",
   "metadata": {
    "slideshow": {
     "slide_type": "subslide"
    }
   },
   "source": [
    "## Final Ensemble Cluster\n",
    " \n",
    "Combines K-means and Hierarchical Clustering Agggregation with random disagreement selection\n",
    "\n",
    "**Results of ensemble agreement:  0.9616393**\n",
    "\n",
    "<img src = 'Rplot01.png'>\n",
    "\n"
   ]
  }
 ],
 "metadata": {
  "celltoolbar": "Slideshow",
  "kernelspec": {
   "display_name": "Python 2",
   "language": "python",
   "name": "python2"
  },
  "language_info": {
   "codemirror_mode": {
    "name": "ipython",
    "version": 2
   },
   "file_extension": ".py",
   "mimetype": "text/x-python",
   "name": "python",
   "nbconvert_exporter": "python",
   "pygments_lexer": "ipython2",
   "version": "2.7.11"
  }
 },
 "nbformat": 4,
 "nbformat_minor": 0
}
