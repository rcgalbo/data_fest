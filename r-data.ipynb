{
 "cells": [
  {
   "cell_type": "code",
   "execution_count": 1,
   "metadata": {
    "collapsed": false
   },
   "outputs": [
    {
     "name": "stderr",
     "output_type": "stream",
     "text": [
      "\n",
      "Attaching package: 'dplyr'\n",
      "\n",
      "The following objects are masked from 'package:data.table':\n",
      "\n",
      "    between, last\n",
      "\n",
      "The following object is masked from 'package:stats':\n",
      "\n",
      "    filter\n",
      "\n",
      "The following objects are masked from 'package:base':\n",
      "\n",
      "    intersect, setdiff, setequal, union\n",
      "\n"
     ]
    }
   ],
   "source": [
    "library(data.table)\n",
    "library(dplyr)"
   ]
  },
  {
   "cell_type": "code",
   "execution_count": 7,
   "metadata": {
    "collapsed": false
   },
   "outputs": [
    {
     "name": "stdout",
     "output_type": "stream",
     "text": [
      "\r",
      "Read 0.0% of 1699911 rows"
     ]
    },
    {
     "name": "stderr",
     "output_type": "stream",
     "text": [
      "Warning message:\n",
      "In fread(\"C:/Users/rgalbo/Documents/data_fest/Data/approved_data_purchase-v5.csv\", : Bumped column 45 to type character on data row 42, field contains '\"10\"'. Coercing previously read values in this column from logical, integer or numeric back to character which may not be lossless; e.g., if '00' and '000' occurred before they will now be just '0', and there may be inconsistencies with treatment of ',,' and ',NA,' too (if they occurred in this column before the bump). If this matters please rerun and set 'colClasses' to 'character' for this column. Please note that column type detection uses the first 5 rows, the middle 5 rows and the last 5 rows, so hopefully this message should be very rare. If reporting to datatable-help, please rerun and include the output from verbose=TRUE."
     ]
    },
    {
     "name": "stdout",
     "output_type": "stream",
     "text": [
      "\r",
      "Read 6.5% of 1699911 rows\r",
      "Read 13.5% of 1699911 rows\r",
      "Read 18.2% of 1699911 rows\r",
      "Read 21.2% of 1699911 rows\r",
      "Read 27.1% of 1699911 rows\r",
      "Read 32.4% of 1699911 rows\r",
      "Read 34.7% of 1699911 rows\r",
      "Read 38.8% of 1699911 rows\r",
      "Read 42.4% of 1699911 rows\r",
      "Read 45.3% of 1699911 rows\r",
      "Read 50.0% of 1699911 rows\r",
      "Read 52.9% of 1699911 rows\r",
      "Read 58.2% of 1699911 rows\r",
      "Read 69.4% of 1699911 rows\r",
      "Read 81.2% of 1699911 rows\r",
      "Read 83.5% of 1699911 rows\r",
      "Read 97.7% of 1699911 rows\r",
      "Read 1699911 rows and 45 (of 45) columns from 1.029 GB file in 00:00:32\n"
     ]
    }
   ],
   "source": [
    "purchase = fread(\"C:/Users/rgalbo/Documents/data_fest/Data/approved_data_purchase-v5.csv\", \n",
    "                 na.strings = c('','NA',NA,'NULL',NULL))"
   ]
  },
  {
   "cell_type": "code",
   "execution_count": 8,
   "metadata": {
    "collapsed": false
   },
   "outputs": [
    {
     "data": {
      "text/html": [
       "<ol class=list-inline>\n",
       "\t<li>1699911</li>\n",
       "\t<li>45</li>\n",
       "</ol>\n"
      ],
      "text/latex": [
       "\\begin{enumerate*}\n",
       "\\item 1699911\n",
       "\\item 45\n",
       "\\end{enumerate*}\n"
      ],
      "text/markdown": [
       "1. 1699911\n",
       "2. 45\n",
       "\n",
       "\n"
      ],
      "text/plain": [
       "[1] 1699911      45"
      ]
     },
     "execution_count": 8,
     "metadata": {},
     "output_type": "execute_result"
    }
   ],
   "source": [
    "dim(purchase)"
   ]
  },
  {
   "cell_type": "code",
   "execution_count": 9,
   "metadata": {
    "collapsed": false
   },
   "outputs": [
    {
     "data": {
      "text/html": [
       "<dl class=dl-horizontal>\n",
       "\t<dt>event_id</dt>\n",
       "\t\t<dd>0</dd>\n",
       "\t<dt>primary_act_id</dt>\n",
       "\t\t<dd>0</dd>\n",
       "\t<dt>secondary_act_id</dt>\n",
       "\t\t<dd>0</dd>\n",
       "\t<dt>purch_party_lkup_id</dt>\n",
       "\t\t<dd>0</dd>\n",
       "\t<dt>event_name</dt>\n",
       "\t\t<dd>0</dd>\n",
       "\t<dt>primary_act_name</dt>\n",
       "\t\t<dd>0</dd>\n",
       "\t<dt>secondary_act_name</dt>\n",
       "\t\t<dd>0.689760228623734</dd>\n",
       "\t<dt>major_cat_name</dt>\n",
       "\t\t<dd>0</dd>\n",
       "\t<dt>minor_cat_name</dt>\n",
       "\t\t<dd>0</dd>\n",
       "\t<dt>la_event_type_cat</dt>\n",
       "\t\t<dd>0</dd>\n",
       "\t<dt>event_disp_name</dt>\n",
       "\t\t<dd>0</dd>\n",
       "\t<dt>ticket_text</dt>\n",
       "\t\t<dd>0</dd>\n",
       "\t<dt>tickets_purchased_qty</dt>\n",
       "\t\t<dd>0</dd>\n",
       "\t<dt>trans_face_val_amt</dt>\n",
       "\t\t<dd>0</dd>\n",
       "\t<dt>delivery_type_cd</dt>\n",
       "\t\t<dd>0</dd>\n",
       "\t<dt>event_date_time</dt>\n",
       "\t\t<dd>0</dd>\n",
       "\t<dt>event_dt</dt>\n",
       "\t\t<dd>0</dd>\n",
       "\t<dt>presale_dt</dt>\n",
       "\t\t<dd>0.584981801988457</dd>\n",
       "\t<dt>onsale_dt</dt>\n",
       "\t\t<dd>0.0225076489298557</dd>\n",
       "\t<dt>sales_ord_create_dttm</dt>\n",
       "\t\t<dd>0.000686506528871217</dd>\n",
       "\t<dt>sales_ord_tran_dt</dt>\n",
       "\t\t<dd>0</dd>\n",
       "\t<dt>print_dt</dt>\n",
       "\t\t<dd>0.076628717621099</dd>\n",
       "\t<dt>timezn_nm</dt>\n",
       "\t\t<dd>0</dd>\n",
       "\t<dt>venue_city</dt>\n",
       "\t\t<dd>0</dd>\n",
       "\t<dt>venue_state</dt>\n",
       "\t\t<dd>0</dd>\n",
       "\t<dt>venue_postal_cd_sgmt_1</dt>\n",
       "\t\t<dd>0</dd>\n",
       "\t<dt>sales_platform_cd</dt>\n",
       "\t\t<dd>0.501118587973135</dd>\n",
       "\t<dt>print_flg</dt>\n",
       "\t\t<dd>0</dd>\n",
       "\t<dt>la_valid_tkt_event_flg</dt>\n",
       "\t\t<dd>0</dd>\n",
       "\t<dt>fin_mkt_nm</dt>\n",
       "\t\t<dd>0</dd>\n",
       "\t<dt>web_session_cookie_val</dt>\n",
       "\t\t<dd>0</dd>\n",
       "\t<dt>gndr_cd</dt>\n",
       "\t\t<dd>0.959113741837073</dd>\n",
       "\t<dt>age_yr</dt>\n",
       "\t\t<dd>0.961533868537823</dd>\n",
       "\t<dt>income_amt</dt>\n",
       "\t\t<dd>0.964091061237912</dd>\n",
       "\t<dt>edu_val</dt>\n",
       "\t\t<dd>0.968257749964557</dd>\n",
       "\t<dt>edu_1st_indv_val</dt>\n",
       "\t\t<dd>0.974688674877685</dd>\n",
       "\t<dt>edu_2nd_indv_val</dt>\n",
       "\t\t<dd>0.981763162894999</dd>\n",
       "\t<dt>adults_in_hh_num</dt>\n",
       "\t\t<dd>0.95825134374682</dd>\n",
       "\t<dt>married_ind</dt>\n",
       "\t\t<dd>0.963172189602867</dd>\n",
       "\t<dt>child_present_ind</dt>\n",
       "\t\t<dd>0.97220736850341</dd>\n",
       "\t<dt>home_owner_ind</dt>\n",
       "\t\t<dd>0.96850482172302</dd>\n",
       "\t<dt>occpn_val</dt>\n",
       "\t\t<dd>0.980706048728433</dd>\n",
       "\t<dt>occpn_1st_val</dt>\n",
       "\t\t<dd>0.982260836008473</dd>\n",
       "\t<dt>occpn_2nd_val</dt>\n",
       "\t\t<dd>0.987088735822052</dd>\n",
       "\t<dt>dist_to_ven</dt>\n",
       "\t\t<dd>0.934488334977537</dd>\n",
       "</dl>\n"
      ],
      "text/latex": [
       "\\begin{description*}\n",
       "\\item[event_id] 0\n",
       "\\item[primary_act_id] 0\n",
       "\\item[secondary_act_id] 0\n",
       "\\item[purch_party_lkup_id] 0\n",
       "\\item[event_name] 0\n",
       "\\item[primary_act_name] 0\n",
       "\\item[secondary_act_name] 0.689760228623734\n",
       "\\item[major_cat_name] 0\n",
       "\\item[minor_cat_name] 0\n",
       "\\item[la_event_type_cat] 0\n",
       "\\item[event_disp_name] 0\n",
       "\\item[ticket_text] 0\n",
       "\\item[tickets_purchased_qty] 0\n",
       "\\item[trans_face_val_amt] 0\n",
       "\\item[delivery_type_cd] 0\n",
       "\\item[event_date_time] 0\n",
       "\\item[event_dt] 0\n",
       "\\item[presale_dt] 0.584981801988457\n",
       "\\item[onsale_dt] 0.0225076489298557\n",
       "\\item[sales_ord_create_dttm] 0.000686506528871217\n",
       "\\item[sales_ord_tran_dt] 0\n",
       "\\item[print_dt] 0.076628717621099\n",
       "\\item[timezn_nm] 0\n",
       "\\item[venue_city] 0\n",
       "\\item[venue_state] 0\n",
       "\\item[venue_postal_cd_sgmt_1] 0\n",
       "\\item[sales_platform_cd] 0.501118587973135\n",
       "\\item[print_flg] 0\n",
       "\\item[la_valid_tkt_event_flg] 0\n",
       "\\item[fin_mkt_nm] 0\n",
       "\\item[web_session_cookie_val] 0\n",
       "\\item[gndr_cd] 0.959113741837073\n",
       "\\item[age_yr] 0.961533868537823\n",
       "\\item[income_amt] 0.964091061237912\n",
       "\\item[edu_val] 0.968257749964557\n",
       "\\item[edu_1st_indv_val] 0.974688674877685\n",
       "\\item[edu_2nd_indv_val] 0.981763162894999\n",
       "\\item[adults_in_hh_num] 0.95825134374682\n",
       "\\item[married_ind] 0.963172189602867\n",
       "\\item[child_present_ind] 0.97220736850341\n",
       "\\item[home_owner_ind] 0.96850482172302\n",
       "\\item[occpn_val] 0.980706048728433\n",
       "\\item[occpn_1st_val] 0.982260836008473\n",
       "\\item[occpn_2nd_val] 0.987088735822052\n",
       "\\item[dist_to_ven] 0.934488334977537\n",
       "\\end{description*}\n"
      ],
      "text/markdown": [
       "event_id\n",
       ":   0primary_act_id\n",
       ":   0secondary_act_id\n",
       ":   0purch_party_lkup_id\n",
       ":   0event_name\n",
       ":   0primary_act_name\n",
       ":   0secondary_act_name\n",
       ":   0.689760228623734major_cat_name\n",
       ":   0minor_cat_name\n",
       ":   0la_event_type_cat\n",
       ":   0event_disp_name\n",
       ":   0ticket_text\n",
       ":   0tickets_purchased_qty\n",
       ":   0trans_face_val_amt\n",
       ":   0delivery_type_cd\n",
       ":   0event_date_time\n",
       ":   0event_dt\n",
       ":   0presale_dt\n",
       ":   0.584981801988457onsale_dt\n",
       ":   0.0225076489298557sales_ord_create_dttm\n",
       ":   0.000686506528871217sales_ord_tran_dt\n",
       ":   0print_dt\n",
       ":   0.076628717621099timezn_nm\n",
       ":   0venue_city\n",
       ":   0venue_state\n",
       ":   0venue_postal_cd_sgmt_1\n",
       ":   0sales_platform_cd\n",
       ":   0.501118587973135print_flg\n",
       ":   0la_valid_tkt_event_flg\n",
       ":   0fin_mkt_nm\n",
       ":   0web_session_cookie_val\n",
       ":   0gndr_cd\n",
       ":   0.959113741837073age_yr\n",
       ":   0.961533868537823income_amt\n",
       ":   0.964091061237912edu_val\n",
       ":   0.968257749964557edu_1st_indv_val\n",
       ":   0.974688674877685edu_2nd_indv_val\n",
       ":   0.981763162894999adults_in_hh_num\n",
       ":   0.95825134374682married_ind\n",
       ":   0.963172189602867child_present_ind\n",
       ":   0.97220736850341home_owner_ind\n",
       ":   0.96850482172302occpn_val\n",
       ":   0.980706048728433occpn_1st_val\n",
       ":   0.982260836008473occpn_2nd_val\n",
       ":   0.987088735822052dist_to_ven\n",
       ":   0.934488334977537\n",
       "\n"
      ],
      "text/plain": [
       "              event_id         primary_act_id       secondary_act_id \n",
       "          0.0000000000           0.0000000000           0.0000000000 \n",
       "   purch_party_lkup_id             event_name       primary_act_name \n",
       "          0.0000000000           0.0000000000           0.0000000000 \n",
       "    secondary_act_name         major_cat_name         minor_cat_name \n",
       "          0.6897602286           0.0000000000           0.0000000000 \n",
       "     la_event_type_cat        event_disp_name            ticket_text \n",
       "          0.0000000000           0.0000000000           0.0000000000 \n",
       " tickets_purchased_qty     trans_face_val_amt       delivery_type_cd \n",
       "          0.0000000000           0.0000000000           0.0000000000 \n",
       "       event_date_time               event_dt             presale_dt \n",
       "          0.0000000000           0.0000000000           0.5849818020 \n",
       "             onsale_dt  sales_ord_create_dttm      sales_ord_tran_dt \n",
       "          0.0225076489           0.0006865065           0.0000000000 \n",
       "              print_dt              timezn_nm             venue_city \n",
       "          0.0766287176           0.0000000000           0.0000000000 \n",
       "           venue_state venue_postal_cd_sgmt_1      sales_platform_cd \n",
       "          0.0000000000           0.0000000000           0.5011185880 \n",
       "             print_flg la_valid_tkt_event_flg             fin_mkt_nm \n",
       "          0.0000000000           0.0000000000           0.0000000000 \n",
       "web_session_cookie_val                gndr_cd                 age_yr \n",
       "          0.0000000000           0.9591137418           0.9615338685 \n",
       "            income_amt                edu_val       edu_1st_indv_val \n",
       "          0.9640910612           0.9682577500           0.9746886749 \n",
       "      edu_2nd_indv_val       adults_in_hh_num            married_ind \n",
       "          0.9817631629           0.9582513437           0.9631721896 \n",
       "     child_present_ind         home_owner_ind              occpn_val \n",
       "          0.9722073685           0.9685048217           0.9807060487 \n",
       "         occpn_1st_val          occpn_2nd_val            dist_to_ven \n",
       "          0.9822608360           0.9870887358           0.9344883350 "
      ]
     },
     "execution_count": 9,
     "metadata": {},
     "output_type": "execute_result"
    }
   ],
   "source": [
    "#percent NA by column\n",
    "colMeans(is.na(purchase))"
   ]
  },
  {
   "cell_type": "code",
   "execution_count": 10,
   "metadata": {
    "collapsed": false
   },
   "outputs": [
    {
     "name": "stderr",
     "output_type": "stream",
     "text": [
      "Loading required package: zoo\n",
      "\n",
      "Attaching package: 'zoo'\n",
      "\n",
      "The following objects are masked from 'package:base':\n",
      "\n",
      "    as.Date, as.Date.numeric\n",
      "\n",
      "\n",
      "Attaching package: 'xts'\n",
      "\n",
      "The following objects are masked from 'package:dplyr':\n",
      "\n",
      "    first, last\n",
      "\n",
      "The following object is masked from 'package:data.table':\n",
      "\n",
      "    last\n",
      "\n"
     ]
    }
   ],
   "source": [
    "#find fake concerts\n",
    "library(xts)\n",
    "dates = as.Date(purchase$event_dt)\n",
    "ts = xts(purchase$event_id, dates)"
   ]
  },
  {
   "cell_type": "code",
   "execution_count": 33,
   "metadata": {
    "collapsed": false
   },
   "outputs": [
    {
     "name": "stderr",
     "output_type": "stream",
     "text": [
      "Warning message:\n",
      "In purchase$event_id != bad_concert_id: longer object length is not a multiple of shorter object length"
     ]
    }
   ],
   "source": [
    "bad_concert_id = as.vector(ts[index(ts) > as.Date('2018-01-01')])\n",
    "purchase = purchase[purchase$event_id != bad_concert_id,]"
   ]
  },
  {
   "cell_type": "code",
   "execution_count": 34,
   "metadata": {
    "collapsed": false
   },
   "outputs": [
    {
     "data": {
      "text/html": [
       "<ol class=list-inline>\n",
       "\t<li>1699581</li>\n",
       "\t<li>45</li>\n",
       "</ol>\n"
      ],
      "text/latex": [
       "\\begin{enumerate*}\n",
       "\\item 1699581\n",
       "\\item 45\n",
       "\\end{enumerate*}\n"
      ],
      "text/markdown": [
       "1. 1699581\n",
       "2. 45\n",
       "\n",
       "\n"
      ],
      "text/plain": [
       "[1] 1699581      45"
      ]
     },
     "execution_count": 34,
     "metadata": {},
     "output_type": "execute_result"
    }
   ],
   "source": [
    "dim(purchase)"
   ]
  },
  {
   "cell_type": "code",
   "execution_count": null,
   "metadata": {
    "collapsed": true
   },
   "outputs": [],
   "source": [
    "#figure out the number of buyers\n",
    "purchase$purch_party_lkup_id\n",
    "dfx = data.frame(table(purchase$purch_party_lkup_id))\n",
    "names(dfx)[1] = 'purch_party_lkup_id'"
   ]
  }
 ],
 "metadata": {
  "kernelspec": {
   "display_name": "R",
   "language": "R",
   "name": "ir"
  },
  "language_info": {
   "codemirror_mode": "r",
   "file_extension": ".r",
   "mimetype": "text/x-r-source",
   "name": "R",
   "pygments_lexer": "r",
   "version": "3.1.3"
  }
 },
 "nbformat": 4,
 "nbformat_minor": 0
}
